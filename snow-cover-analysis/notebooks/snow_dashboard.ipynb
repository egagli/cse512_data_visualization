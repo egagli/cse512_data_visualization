{
 "cells": [
  {
   "cell_type": "markdown",
   "metadata": {},
   "source": [
    "### Create an empty virtual environment before and then run the following cells\n",
    "#### To create an empty virtual env use the folllowing command \n",
    "    conda create -n yourenvname python=3.11"
   ]
  },
  {
   "cell_type": "code",
   "execution_count": null,
   "metadata": {},
   "outputs": [],
   "source": [
    "# Install required packages\n",
    "!pip install pandas panel holoviews hvplot ipyleaflet geopandas xarray folium matplotlib leafmap numpy branca ipywidgets shapely localtileserver ipywidgets-bokeh netcdf4 rioxarray\n"
   ]
  },
  {
   "cell_type": "code",
   "execution_count": 31,
   "metadata": {},
   "outputs": [
    {
     "name": "stderr",
     "output_type": "stream",
     "text": [
      "WARNING:param.panel_extension: folium extension not recognized and will be skipped.\n"
     ]
    },
    {
     "data": {
      "application/javascript": "(function(root) {\n  function now() {\n    return new Date();\n  }\n\n  var force = true;\n  var py_version = '3.4.1'.replace('rc', '-rc.').replace('.dev', '-dev.');\n  var reloading = true;\n  var Bokeh = root.Bokeh;\n\n  if (typeof (root._bokeh_timeout) === \"undefined\" || force) {\n    root._bokeh_timeout = Date.now() + 5000;\n    root._bokeh_failed_load = false;\n  }\n\n  function run_callbacks() {\n    try {\n      root._bokeh_onload_callbacks.forEach(function(callback) {\n        if (callback != null)\n          callback();\n      });\n    } finally {\n      delete root._bokeh_onload_callbacks;\n    }\n    console.debug(\"Bokeh: all callbacks have finished\");\n  }\n\n  function load_libs(css_urls, js_urls, js_modules, js_exports, callback) {\n    if (css_urls == null) css_urls = [];\n    if (js_urls == null) js_urls = [];\n    if (js_modules == null) js_modules = [];\n    if (js_exports == null) js_exports = {};\n\n    root._bokeh_onload_callbacks.push(callback);\n\n    if (root._bokeh_is_loading > 0) {\n      console.debug(\"Bokeh: BokehJS is being loaded, scheduling callback at\", now());\n      return null;\n    }\n    if (js_urls.length === 0 && js_modules.length === 0 && Object.keys(js_exports).length === 0) {\n      run_callbacks();\n      return null;\n    }\n    if (!reloading) {\n      console.debug(\"Bokeh: BokehJS not loaded, scheduling load and callback at\", now());\n    }\n\n    function on_load() {\n      root._bokeh_is_loading--;\n      if (root._bokeh_is_loading === 0) {\n        console.debug(\"Bokeh: all BokehJS libraries/stylesheets loaded\");\n        run_callbacks()\n      }\n    }\n    window._bokeh_on_load = on_load\n\n    function on_error() {\n      console.error(\"failed to load \" + url);\n    }\n\n    var skip = [];\n    if (window.requirejs) {\n      window.requirejs.config({'packages': {}, 'paths': {}, 'shim': {}});\n      root._bokeh_is_loading = css_urls.length + 0;\n    } else {\n      root._bokeh_is_loading = css_urls.length + js_urls.length + js_modules.length + Object.keys(js_exports).length;\n    }\n\n    var existing_stylesheets = []\n    var links = document.getElementsByTagName('link')\n    for (var i = 0; i < links.length; i++) {\n      var link = links[i]\n      if (link.href != null) {\n\texisting_stylesheets.push(link.href)\n      }\n    }\n    for (var i = 0; i < css_urls.length; i++) {\n      var url = css_urls[i];\n      if (existing_stylesheets.indexOf(url) !== -1) {\n\ton_load()\n\tcontinue;\n      }\n      const element = document.createElement(\"link\");\n      element.onload = on_load;\n      element.onerror = on_error;\n      element.rel = \"stylesheet\";\n      element.type = \"text/css\";\n      element.href = url;\n      console.debug(\"Bokeh: injecting link tag for BokehJS stylesheet: \", url);\n      document.body.appendChild(element);\n    }    var existing_scripts = []\n    var scripts = document.getElementsByTagName('script')\n    for (var i = 0; i < scripts.length; i++) {\n      var script = scripts[i]\n      if (script.src != null) {\n\texisting_scripts.push(script.src)\n      }\n    }\n    for (var i = 0; i < js_urls.length; i++) {\n      var url = js_urls[i];\n      if (skip.indexOf(url) !== -1 || existing_scripts.indexOf(url) !== -1) {\n\tif (!window.requirejs) {\n\t  on_load();\n\t}\n\tcontinue;\n      }\n      var element = document.createElement('script');\n      element.onload = on_load;\n      element.onerror = on_error;\n      element.async = false;\n      element.src = url;\n      console.debug(\"Bokeh: injecting script tag for BokehJS library: \", url);\n      document.head.appendChild(element);\n    }\n    for (var i = 0; i < js_modules.length; i++) {\n      var url = js_modules[i];\n      if (skip.indexOf(url) !== -1 || existing_scripts.indexOf(url) !== -1) {\n\tif (!window.requirejs) {\n\t  on_load();\n\t}\n\tcontinue;\n      }\n      var element = document.createElement('script');\n      element.onload = on_load;\n      element.onerror = on_error;\n      element.async = false;\n      element.src = url;\n      element.type = \"module\";\n      console.debug(\"Bokeh: injecting script tag for BokehJS library: \", url);\n      document.head.appendChild(element);\n    }\n    for (const name in js_exports) {\n      var url = js_exports[name];\n      if (skip.indexOf(url) >= 0 || root[name] != null) {\n\tif (!window.requirejs) {\n\t  on_load();\n\t}\n\tcontinue;\n      }\n      var element = document.createElement('script');\n      element.onerror = on_error;\n      element.async = false;\n      element.type = \"module\";\n      console.debug(\"Bokeh: injecting script tag for BokehJS library: \", url);\n      element.textContent = `\n      import ${name} from \"${url}\"\n      window.${name} = ${name}\n      window._bokeh_on_load()\n      `\n      document.head.appendChild(element);\n    }\n    if (!js_urls.length && !js_modules.length) {\n      on_load()\n    }\n  };\n\n  function inject_raw_css(css) {\n    const element = document.createElement(\"style\");\n    element.appendChild(document.createTextNode(css));\n    document.body.appendChild(element);\n  }\n\n  var js_urls = [\"https://cdnjs.cloudflare.com/ajax/libs/require.js/2.3.4/require.min.js\", \"https://cdn.jsdelivr.net/npm/@bokeh/ipywidgets_bokeh@1.6.0/dist/ipywidgets_bokeh.js\"];\n  var js_modules = [];\n  var js_exports = {};\n  var css_urls = [\"https://cdnjs.cloudflare.com/ajax/libs/font-awesome/4.5.0/css/font-awesome.css?v=1.4.2\", \"https://cdn.holoviz.org/panel/1.4.2/dist/bundled/font-awesome/css/all.min.css\"];\n  var inline_js = [    function(Bokeh) {\n      Bokeh.set_log_level(\"info\");\n    },\nfunction(Bokeh) {} // ensure no trailing comma for IE\n  ];\n\n  function run_inline_js() {\n    if ((root.Bokeh !== undefined) || (force === true)) {\n      for (var i = 0; i < inline_js.length; i++) {\n\ttry {\n          inline_js[i].call(root, root.Bokeh);\n\t} catch(e) {\n\t  if (!reloading) {\n\t    throw e;\n\t  }\n\t}\n      }\n      // Cache old bokeh versions\n      if (Bokeh != undefined && !reloading) {\n\tvar NewBokeh = root.Bokeh;\n\tif (Bokeh.versions === undefined) {\n\t  Bokeh.versions = new Map();\n\t}\n\tif (NewBokeh.version !== Bokeh.version) {\n\t  Bokeh.versions.set(NewBokeh.version, NewBokeh)\n\t}\n\troot.Bokeh = Bokeh;\n      }} else if (Date.now() < root._bokeh_timeout) {\n      setTimeout(run_inline_js, 100);\n    } else if (!root._bokeh_failed_load) {\n      console.log(\"Bokeh: BokehJS failed to load within specified timeout.\");\n      root._bokeh_failed_load = true;\n    }\n    root._bokeh_is_initializing = false\n  }\n\n  function load_or_wait() {\n    // Implement a backoff loop that tries to ensure we do not load multiple\n    // versions of Bokeh and its dependencies at the same time.\n    // In recent versions we use the root._bokeh_is_initializing flag\n    // to determine whether there is an ongoing attempt to initialize\n    // bokeh, however for backward compatibility we also try to ensure\n    // that we do not start loading a newer (Panel>=1.0 and Bokeh>3) version\n    // before older versions are fully initialized.\n    if (root._bokeh_is_initializing && Date.now() > root._bokeh_timeout) {\n      root._bokeh_is_initializing = false;\n      root._bokeh_onload_callbacks = undefined;\n      console.log(\"Bokeh: BokehJS was loaded multiple times but one version failed to initialize.\");\n      load_or_wait();\n    } else if (root._bokeh_is_initializing || (typeof root._bokeh_is_initializing === \"undefined\" && root._bokeh_onload_callbacks !== undefined)) {\n      setTimeout(load_or_wait, 100);\n    } else {\n      root._bokeh_is_initializing = true\n      root._bokeh_onload_callbacks = []\n      var bokeh_loaded = Bokeh != null && (Bokeh.version === py_version || (Bokeh.versions !== undefined && Bokeh.versions.has(py_version)));\n      if (!reloading && !bokeh_loaded) {\n\troot.Bokeh = undefined;\n      }\n      load_libs(css_urls, js_urls, js_modules, js_exports, function() {\n\tconsole.debug(\"Bokeh: BokehJS plotting callback run at\", now());\n\trun_inline_js();\n      });\n    }\n  }\n  // Give older versions of the autoload script a head-start to ensure\n  // they initialize before we start loading newer version.\n  setTimeout(load_or_wait, 100)\n}(window));",
      "application/vnd.holoviews_load.v0+json": ""
     },
     "metadata": {},
     "output_type": "display_data"
    },
    {
     "data": {
      "application/javascript": "\nif ((window.PyViz === undefined) || (window.PyViz instanceof HTMLElement)) {\n  window.PyViz = {comms: {}, comm_status:{}, kernels:{}, receivers: {}, plot_index: []}\n}\n\n\n    function JupyterCommManager() {\n    }\n\n    JupyterCommManager.prototype.register_target = function(plot_id, comm_id, msg_handler) {\n      if (window.comm_manager || ((window.Jupyter !== undefined) && (Jupyter.notebook.kernel != null))) {\n        var comm_manager = window.comm_manager || Jupyter.notebook.kernel.comm_manager;\n        comm_manager.register_target(comm_id, function(comm) {\n          comm.on_msg(msg_handler);\n        });\n      } else if ((plot_id in window.PyViz.kernels) && (window.PyViz.kernels[plot_id])) {\n        window.PyViz.kernels[plot_id].registerCommTarget(comm_id, function(comm) {\n          comm.onMsg = msg_handler;\n        });\n      } else if (typeof google != 'undefined' && google.colab.kernel != null) {\n        google.colab.kernel.comms.registerTarget(comm_id, (comm) => {\n          var messages = comm.messages[Symbol.asyncIterator]();\n          function processIteratorResult(result) {\n            var message = result.value;\n            console.log(message)\n            var content = {data: message.data, comm_id};\n            var buffers = []\n            for (var buffer of message.buffers || []) {\n              buffers.push(new DataView(buffer))\n            }\n            var metadata = message.metadata || {};\n            var msg = {content, buffers, metadata}\n            msg_handler(msg);\n            return messages.next().then(processIteratorResult);\n          }\n          return messages.next().then(processIteratorResult);\n        })\n      }\n    }\n\n    JupyterCommManager.prototype.get_client_comm = function(plot_id, comm_id, msg_handler) {\n      if (comm_id in window.PyViz.comms) {\n        return window.PyViz.comms[comm_id];\n      } else if (window.comm_manager || ((window.Jupyter !== undefined) && (Jupyter.notebook.kernel != null))) {\n        var comm_manager = window.comm_manager || Jupyter.notebook.kernel.comm_manager;\n        var comm = comm_manager.new_comm(comm_id, {}, {}, {}, comm_id);\n        if (msg_handler) {\n          comm.on_msg(msg_handler);\n        }\n      } else if ((plot_id in window.PyViz.kernels) && (window.PyViz.kernels[plot_id])) {\n        var comm = window.PyViz.kernels[plot_id].connectToComm(comm_id);\n        comm.open();\n        if (msg_handler) {\n          comm.onMsg = msg_handler;\n        }\n      } else if (typeof google != 'undefined' && google.colab.kernel != null) {\n        var comm_promise = google.colab.kernel.comms.open(comm_id)\n        comm_promise.then((comm) => {\n          window.PyViz.comms[comm_id] = comm;\n          if (msg_handler) {\n            var messages = comm.messages[Symbol.asyncIterator]();\n            function processIteratorResult(result) {\n              var message = result.value;\n              var content = {data: message.data};\n              var metadata = message.metadata || {comm_id};\n              var msg = {content, metadata}\n              msg_handler(msg);\n              return messages.next().then(processIteratorResult);\n            }\n            return messages.next().then(processIteratorResult);\n          }\n        }) \n        var sendClosure = (data, metadata, buffers, disposeOnDone) => {\n          return comm_promise.then((comm) => {\n            comm.send(data, metadata, buffers, disposeOnDone);\n          });\n        };\n        var comm = {\n          send: sendClosure\n        };\n      }\n      window.PyViz.comms[comm_id] = comm;\n      return comm;\n    }\n    window.PyViz.comm_manager = new JupyterCommManager();\n    \n\n\nvar JS_MIME_TYPE = 'application/javascript';\nvar HTML_MIME_TYPE = 'text/html';\nvar EXEC_MIME_TYPE = 'application/vnd.holoviews_exec.v0+json';\nvar CLASS_NAME = 'output';\n\n/**\n * Render data to the DOM node\n */\nfunction render(props, node) {\n  var div = document.createElement(\"div\");\n  var script = document.createElement(\"script\");\n  node.appendChild(div);\n  node.appendChild(script);\n}\n\n/**\n * Handle when a new output is added\n */\nfunction handle_add_output(event, handle) {\n  var output_area = handle.output_area;\n  var output = handle.output;\n  if ((output.data == undefined) || (!output.data.hasOwnProperty(EXEC_MIME_TYPE))) {\n    return\n  }\n  var id = output.metadata[EXEC_MIME_TYPE][\"id\"];\n  var toinsert = output_area.element.find(\".\" + CLASS_NAME.split(' ')[0]);\n  if (id !== undefined) {\n    var nchildren = toinsert.length;\n    var html_node = toinsert[nchildren-1].children[0];\n    html_node.innerHTML = output.data[HTML_MIME_TYPE];\n    var scripts = [];\n    var nodelist = html_node.querySelectorAll(\"script\");\n    for (var i in nodelist) {\n      if (nodelist.hasOwnProperty(i)) {\n        scripts.push(nodelist[i])\n      }\n    }\n\n    scripts.forEach( function (oldScript) {\n      var newScript = document.createElement(\"script\");\n      var attrs = [];\n      var nodemap = oldScript.attributes;\n      for (var j in nodemap) {\n        if (nodemap.hasOwnProperty(j)) {\n          attrs.push(nodemap[j])\n        }\n      }\n      attrs.forEach(function(attr) { newScript.setAttribute(attr.name, attr.value) });\n      newScript.appendChild(document.createTextNode(oldScript.innerHTML));\n      oldScript.parentNode.replaceChild(newScript, oldScript);\n    });\n    if (JS_MIME_TYPE in output.data) {\n      toinsert[nchildren-1].children[1].textContent = output.data[JS_MIME_TYPE];\n    }\n    output_area._hv_plot_id = id;\n    if ((window.Bokeh !== undefined) && (id in Bokeh.index)) {\n      window.PyViz.plot_index[id] = Bokeh.index[id];\n    } else {\n      window.PyViz.plot_index[id] = null;\n    }\n  } else if (output.metadata[EXEC_MIME_TYPE][\"server_id\"] !== undefined) {\n    var bk_div = document.createElement(\"div\");\n    bk_div.innerHTML = output.data[HTML_MIME_TYPE];\n    var script_attrs = bk_div.children[0].attributes;\n    for (var i = 0; i < script_attrs.length; i++) {\n      toinsert[toinsert.length - 1].childNodes[1].setAttribute(script_attrs[i].name, script_attrs[i].value);\n    }\n    // store reference to server id on output_area\n    output_area._bokeh_server_id = output.metadata[EXEC_MIME_TYPE][\"server_id\"];\n  }\n}\n\n/**\n * Handle when an output is cleared or removed\n */\nfunction handle_clear_output(event, handle) {\n  var id = handle.cell.output_area._hv_plot_id;\n  var server_id = handle.cell.output_area._bokeh_server_id;\n  if (((id === undefined) || !(id in PyViz.plot_index)) && (server_id !== undefined)) { return; }\n  var comm = window.PyViz.comm_manager.get_client_comm(\"hv-extension-comm\", \"hv-extension-comm\", function () {});\n  if (server_id !== null) {\n    comm.send({event_type: 'server_delete', 'id': server_id});\n    return;\n  } else if (comm !== null) {\n    comm.send({event_type: 'delete', 'id': id});\n  }\n  delete PyViz.plot_index[id];\n  if ((window.Bokeh !== undefined) & (id in window.Bokeh.index)) {\n    var doc = window.Bokeh.index[id].model.document\n    doc.clear();\n    const i = window.Bokeh.documents.indexOf(doc);\n    if (i > -1) {\n      window.Bokeh.documents.splice(i, 1);\n    }\n  }\n}\n\n/**\n * Handle kernel restart event\n */\nfunction handle_kernel_cleanup(event, handle) {\n  delete PyViz.comms[\"hv-extension-comm\"];\n  window.PyViz.plot_index = {}\n}\n\n/**\n * Handle update_display_data messages\n */\nfunction handle_update_output(event, handle) {\n  handle_clear_output(event, {cell: {output_area: handle.output_area}})\n  handle_add_output(event, handle)\n}\n\nfunction register_renderer(events, OutputArea) {\n  function append_mime(data, metadata, element) {\n    // create a DOM node to render to\n    var toinsert = this.create_output_subarea(\n    metadata,\n    CLASS_NAME,\n    EXEC_MIME_TYPE\n    );\n    this.keyboard_manager.register_events(toinsert);\n    // Render to node\n    var props = {data: data, metadata: metadata[EXEC_MIME_TYPE]};\n    render(props, toinsert[0]);\n    element.append(toinsert);\n    return toinsert\n  }\n\n  events.on('output_added.OutputArea', handle_add_output);\n  events.on('output_updated.OutputArea', handle_update_output);\n  events.on('clear_output.CodeCell', handle_clear_output);\n  events.on('delete.Cell', handle_clear_output);\n  events.on('kernel_ready.Kernel', handle_kernel_cleanup);\n\n  OutputArea.prototype.register_mime_type(EXEC_MIME_TYPE, append_mime, {\n    safe: true,\n    index: 0\n  });\n}\n\nif (window.Jupyter !== undefined) {\n  try {\n    var events = require('base/js/events');\n    var OutputArea = require('notebook/js/outputarea').OutputArea;\n    if (OutputArea.prototype.mime_types().indexOf(EXEC_MIME_TYPE) == -1) {\n      register_renderer(events, OutputArea);\n    }\n  } catch(err) {\n  }\n}\n",
      "application/vnd.holoviews_load.v0+json": ""
     },
     "metadata": {},
     "output_type": "display_data"
    },
    {
     "data": {
      "text/html": [
       "<style>*[data-root-id],\n",
       "*[data-root-id] > * {\n",
       "  box-sizing: border-box;\n",
       "  font-family: var(--jp-ui-font-family);\n",
       "  font-size: var(--jp-ui-font-size1);\n",
       "  color: var(--vscode-editor-foreground, var(--jp-ui-font-color1));\n",
       "}\n",
       "\n",
       "/* Override VSCode background color */\n",
       ".cell-output-ipywidget-background:has(\n",
       "    > .cell-output-ipywidget-background > .lm-Widget > *[data-root-id]\n",
       "  ),\n",
       ".cell-output-ipywidget-background:has(> .lm-Widget > *[data-root-id]) {\n",
       "  background-color: transparent !important;\n",
       "}\n",
       "</style>"
      ]
     },
     "metadata": {},
     "output_type": "display_data"
    },
    {
     "data": {
      "application/vnd.holoviews_exec.v0+json": "",
      "text/html": [
       "<div id='f6f30d39-55c4-4435-823e-5e294162ef40'>\n",
       "  <div id=\"c4f211be-fbf8-4f16-8426-791272c202f4\" data-root-id=\"f6f30d39-55c4-4435-823e-5e294162ef40\" style=\"display: contents;\"></div>\n",
       "</div>\n",
       "<script type=\"application/javascript\">(function(root) {\n",
       "  var docs_json = {\"9bd072cc-e735-4109-9ed5-037e81251039\":{\"version\":\"3.4.1\",\"title\":\"Bokeh Application\",\"roots\":[{\"type\":\"object\",\"name\":\"panel.models.browser.BrowserInfo\",\"id\":\"f6f30d39-55c4-4435-823e-5e294162ef40\"},{\"type\":\"object\",\"name\":\"panel.models.comm_manager.CommManager\",\"id\":\"ccdcfe8b-77a0-4476-b2fc-9bb330e9284e\",\"attributes\":{\"plot_id\":\"f6f30d39-55c4-4435-823e-5e294162ef40\",\"comm_id\":\"f12f3108a8ad4ec589fd799e45a5cd95\",\"client_comm_id\":\"64d8cbf03b1b4a138d67b8eae3e3f873\"}}],\"defs\":[{\"type\":\"model\",\"name\":\"ReactiveHTML1\"},{\"type\":\"model\",\"name\":\"FlexBox1\",\"properties\":[{\"name\":\"align_content\",\"kind\":\"Any\",\"default\":\"flex-start\"},{\"name\":\"align_items\",\"kind\":\"Any\",\"default\":\"flex-start\"},{\"name\":\"flex_direction\",\"kind\":\"Any\",\"default\":\"row\"},{\"name\":\"flex_wrap\",\"kind\":\"Any\",\"default\":\"wrap\"},{\"name\":\"gap\",\"kind\":\"Any\",\"default\":\"\"},{\"name\":\"justify_content\",\"kind\":\"Any\",\"default\":\"flex-start\"}]},{\"type\":\"model\",\"name\":\"FloatPanel1\",\"properties\":[{\"name\":\"config\",\"kind\":\"Any\",\"default\":{\"type\":\"map\"}},{\"name\":\"contained\",\"kind\":\"Any\",\"default\":true},{\"name\":\"position\",\"kind\":\"Any\",\"default\":\"right-top\"},{\"name\":\"offsetx\",\"kind\":\"Any\",\"default\":null},{\"name\":\"offsety\",\"kind\":\"Any\",\"default\":null},{\"name\":\"theme\",\"kind\":\"Any\",\"default\":\"primary\"},{\"name\":\"status\",\"kind\":\"Any\",\"default\":\"normalized\"}]},{\"type\":\"model\",\"name\":\"GridStack1\",\"properties\":[{\"name\":\"mode\",\"kind\":\"Any\",\"default\":\"warn\"},{\"name\":\"ncols\",\"kind\":\"Any\",\"default\":null},{\"name\":\"nrows\",\"kind\":\"Any\",\"default\":null},{\"name\":\"allow_resize\",\"kind\":\"Any\",\"default\":true},{\"name\":\"allow_drag\",\"kind\":\"Any\",\"default\":true},{\"name\":\"state\",\"kind\":\"Any\",\"default\":[]}]},{\"type\":\"model\",\"name\":\"drag1\",\"properties\":[{\"name\":\"slider_width\",\"kind\":\"Any\",\"default\":5},{\"name\":\"slider_color\",\"kind\":\"Any\",\"default\":\"black\"},{\"name\":\"value\",\"kind\":\"Any\",\"default\":50}]},{\"type\":\"model\",\"name\":\"click1\",\"properties\":[{\"name\":\"terminal_output\",\"kind\":\"Any\",\"default\":\"\"},{\"name\":\"debug_name\",\"kind\":\"Any\",\"default\":\"\"},{\"name\":\"clears\",\"kind\":\"Any\",\"default\":0}]},{\"type\":\"model\",\"name\":\"FastWrapper1\",\"properties\":[{\"name\":\"object\",\"kind\":\"Any\",\"default\":null},{\"name\":\"style\",\"kind\":\"Any\",\"default\":null}]},{\"type\":\"model\",\"name\":\"NotificationAreaBase1\",\"properties\":[{\"name\":\"js_events\",\"kind\":\"Any\",\"default\":{\"type\":\"map\"}},{\"name\":\"position\",\"kind\":\"Any\",\"default\":\"bottom-right\"},{\"name\":\"_clear\",\"kind\":\"Any\",\"default\":0}]},{\"type\":\"model\",\"name\":\"NotificationArea1\",\"properties\":[{\"name\":\"js_events\",\"kind\":\"Any\",\"default\":{\"type\":\"map\"}},{\"name\":\"notifications\",\"kind\":\"Any\",\"default\":[]},{\"name\":\"position\",\"kind\":\"Any\",\"default\":\"bottom-right\"},{\"name\":\"_clear\",\"kind\":\"Any\",\"default\":0},{\"name\":\"types\",\"kind\":\"Any\",\"default\":[{\"type\":\"map\",\"entries\":[[\"type\",\"warning\"],[\"background\",\"#ffc107\"],[\"icon\",{\"type\":\"map\",\"entries\":[[\"className\",\"fas fa-exclamation-triangle\"],[\"tagName\",\"i\"],[\"color\",\"white\"]]}]]},{\"type\":\"map\",\"entries\":[[\"type\",\"info\"],[\"background\",\"#007bff\"],[\"icon\",{\"type\":\"map\",\"entries\":[[\"className\",\"fas fa-info-circle\"],[\"tagName\",\"i\"],[\"color\",\"white\"]]}]]}]}]},{\"type\":\"model\",\"name\":\"Notification\",\"properties\":[{\"name\":\"background\",\"kind\":\"Any\",\"default\":null},{\"name\":\"duration\",\"kind\":\"Any\",\"default\":3000},{\"name\":\"icon\",\"kind\":\"Any\",\"default\":null},{\"name\":\"message\",\"kind\":\"Any\",\"default\":\"\"},{\"name\":\"notification_type\",\"kind\":\"Any\",\"default\":null},{\"name\":\"_destroyed\",\"kind\":\"Any\",\"default\":false}]},{\"type\":\"model\",\"name\":\"TemplateActions1\",\"properties\":[{\"name\":\"open_modal\",\"kind\":\"Any\",\"default\":0},{\"name\":\"close_modal\",\"kind\":\"Any\",\"default\":0}]},{\"type\":\"model\",\"name\":\"BootstrapTemplateActions1\",\"properties\":[{\"name\":\"open_modal\",\"kind\":\"Any\",\"default\":0},{\"name\":\"close_modal\",\"kind\":\"Any\",\"default\":0}]},{\"type\":\"model\",\"name\":\"TemplateEditor1\",\"properties\":[{\"name\":\"layout\",\"kind\":\"Any\",\"default\":[]}]},{\"type\":\"model\",\"name\":\"MaterialTemplateActions1\",\"properties\":[{\"name\":\"open_modal\",\"kind\":\"Any\",\"default\":0},{\"name\":\"close_modal\",\"kind\":\"Any\",\"default\":0}]},{\"type\":\"model\",\"name\":\"copy_to_clipboard1\",\"properties\":[{\"name\":\"fill\",\"kind\":\"Any\",\"default\":\"none\"},{\"name\":\"value\",\"kind\":\"Any\",\"default\":null}]}]}};\n",
       "  var render_items = [{\"docid\":\"9bd072cc-e735-4109-9ed5-037e81251039\",\"roots\":{\"f6f30d39-55c4-4435-823e-5e294162ef40\":\"c4f211be-fbf8-4f16-8426-791272c202f4\"},\"root_ids\":[\"f6f30d39-55c4-4435-823e-5e294162ef40\"]}];\n",
       "  var docs = Object.values(docs_json)\n",
       "  if (!docs) {\n",
       "    return\n",
       "  }\n",
       "  const py_version = docs[0].version.replace('rc', '-rc.').replace('.dev', '-dev.')\n",
       "  function embed_document(root) {\n",
       "    var Bokeh = get_bokeh(root)\n",
       "    Bokeh.embed.embed_items_notebook(docs_json, render_items);\n",
       "    for (const render_item of render_items) {\n",
       "      for (const root_id of render_item.root_ids) {\n",
       "\tconst id_el = document.getElementById(root_id)\n",
       "\tif (id_el.children.length && (id_el.children[0].className === 'bk-root')) {\n",
       "\t  const root_el = id_el.children[0]\n",
       "\t  root_el.id = root_el.id + '-rendered'\n",
       "\t}\n",
       "      }\n",
       "    }\n",
       "  }\n",
       "  function get_bokeh(root) {\n",
       "    if (root.Bokeh === undefined) {\n",
       "      return null\n",
       "    } else if (root.Bokeh.version !== py_version) {\n",
       "      if (root.Bokeh.versions === undefined || !root.Bokeh.versions.has(py_version)) {\n",
       "\treturn null\n",
       "      }\n",
       "      return root.Bokeh.versions.get(py_version);\n",
       "    } else if (root.Bokeh.version === py_version) {\n",
       "      return root.Bokeh\n",
       "    }\n",
       "    return null\n",
       "  }\n",
       "  function is_loaded(root) {\n",
       "    var Bokeh = get_bokeh(root)\n",
       "    return (Bokeh != null && Bokeh.Panel !== undefined)\n",
       "  }\n",
       "  if (is_loaded(root)) {\n",
       "    embed_document(root);\n",
       "  } else {\n",
       "    var attempts = 0;\n",
       "    var timer = setInterval(function(root) {\n",
       "      if (is_loaded(root)) {\n",
       "        clearInterval(timer);\n",
       "        embed_document(root);\n",
       "      } else if (document.readyState == \"complete\") {\n",
       "        attempts++;\n",
       "        if (attempts > 200) {\n",
       "          clearInterval(timer);\n",
       "\t  var Bokeh = get_bokeh(root)\n",
       "\t  if (Bokeh == null || Bokeh.Panel == null) {\n",
       "            console.warn(\"Panel: ERROR: Unable to run Panel code because Bokeh or Panel library is missing\");\n",
       "\t  } else {\n",
       "\t    console.warn(\"Panel: WARNING: Attempting to render but not all required libraries could be resolved.\")\n",
       "\t    embed_document(root)\n",
       "\t  }\n",
       "        }\n",
       "      }\n",
       "    }, 25, root)\n",
       "  }\n",
       "})(window);</script>"
      ]
     },
     "metadata": {
      "application/vnd.holoviews_exec.v0+json": {
       "id": "f6f30d39-55c4-4435-823e-5e294162ef40"
      }
     },
     "output_type": "display_data"
    }
   ],
   "source": [
    "#!pip -q install panel ipyleaflet ipywidgets_bokeh geopandas hvplot xarray_leaflet\n",
    "import pandas as pd\n",
    "import panel as pn\n",
    "import holoviews as hv\n",
    "import hvplot.pandas\n",
    "import ipyleaflet\n",
    "import geopandas as gpd\n",
    "#import xarray_leaflet\n",
    "from ipyleaflet import Map, CircleMarker, GeoJSON, LayerGroup, MarkerCluster, Popup\n",
    "from holoviews.streams import Stream, param\n",
    "import json\n",
    "\n",
    "import xarray as xr\n",
    "import panel as pn\n",
    "import holoviews as hv\n",
    "import ipyleaflet\n",
    "import geopandas as gpd\n",
    "from ipyleaflet import Map, GeoJSON\n",
    "from holoviews.streams import Stream, param\n",
    "import json\n",
    "import folium\n",
    "import folium.plugins\n",
    "import matplotlib.pyplot as plt\n",
    "# Initialize Panel extension\n",
    "#pn.extension('plotly', 'ipywidgets')\n",
    "#pn.extension('ipywidgets')\n",
    "\n",
    "from leafmap import leafmap\n",
    "import numpy as np\n",
    "import branca\n",
    "from ipywidgets import HTML\n",
    "\n",
    "import html\n",
    "import leafmap.foliumap as leafmap\n",
    "\n",
    "pn.extension(\"ipywidgets\",sizing_mode=\"stretch_width\")\n",
    "\n",
    "from shapely.geometry import shape, MultiPolygon\n",
    "from threading import Timer\n",
    "import asyncio"
   ]
  },
  {
   "cell_type": "code",
   "execution_count": 2,
   "metadata": {},
   "outputs": [],
   "source": [
    "huc2_gdf = gpd.read_file('../data/huc2.geojson')\n",
    "\n",
    "huc2_gdf['huc2'] = huc2_gdf['huc2'].astype('int32') \n",
    "huc2_14 = huc2_gdf[huc2_gdf['huc2']==14] \n",
    "\n",
    "huc10_gdf = gpd.read_file('../data/huc10_clusters_loc.geojson')\n",
    "huc10_gdf.geometry = huc10_gdf.simplify(tolerance=0.01, preserve_topology=True)"
   ]
  },
  {
   "cell_type": "code",
   "execution_count": 3,
   "metadata": {},
   "outputs": [],
   "source": [
    "huc10_swe = pd.read_csv('../data/swe_totals_ucrb.csv') \n",
    "huc10_swe = huc10_swe.rename(columns={'swe_snv_sum_m3':'Calculated SWE', 'swe_reanalysis_sum_m3':'Reanalysis SWE'}) "
   ]
  },
  {
   "cell_type": "code",
   "execution_count": 4,
   "metadata": {},
   "outputs": [],
   "source": [
    "swe_reanalysis = xr.open_dataset('../data/SWE_reanalysis_32yrs.nc',mask_and_scale=True)['SWE_Post'].rio.clip_box(miny=36,maxy=42,minx=-110,maxx=-100).where(lambda x: x>0).compute() \n",
    "swe_calculated = xr.open_dataset('../data/swe_calculated_snv.nc',mask_and_scale=True)['SWE_Post'].rio.write_crs('EPSG:32611').rio.reproject_match(swe_reanalysis).compute()"
   ]
  },
  {
   "cell_type": "code",
   "execution_count": 5,
   "metadata": {},
   "outputs": [],
   "source": [
    "swe_reanalysis_coarsened = swe_reanalysis.coarsen(dim={'x':2,'y':2}, boundary='trim').mean().compute()\n",
    "swe_calculated_coarsened = swe_calculated.coarsen(dim={'x':2,'y':2}, boundary='trim').mean().compute()"
   ]
  },
  {
   "cell_type": "code",
   "execution_count": 6,
   "metadata": {},
   "outputs": [],
   "source": [
    "center = [huc10_gdf.to_crs('EPSG:4326').unary_union.centroid.y,huc10_gdf.to_crs('EPSG:4326').unary_union.centroid.x]"
   ]
  },
  {
   "cell_type": "code",
<<<<<<< HEAD:notebooks/panel.ipynb
   "execution_count": null,
   "metadata": {},
   "outputs": [],
   "source": []
  },
  {
   "cell_type": "code",
   "execution_count": 69,
=======
   "execution_count": 40,
>>>>>>> refs/remotes/origin/master:notebooks/snow_dashboard.ipynb
   "metadata": {},
   "outputs": [
    {
     "name": "stdout",
     "output_type": "stream",
     "text": [
      "default\n"
     ]
    },
    {
     "name": "stderr",
     "output_type": "stream",
     "text": [
<<<<<<< HEAD:notebooks/panel.ipynb
      "WARNING:param.HTML: Providing a height-responsive sizing_mode ('scale_both') and a fixed height is not supported. Converting fixed height to min_height. If you intended the component to be fully height-responsive remove the height setting, otherwise change it to min_height. To error on the incorrect specification disable the config.layout_compatibility option.\n",
      "WARNING:param.Row: Providing a height-responsive sizing_mode ('scale_both') and a fixed height is not supported. Converting fixed height to min_height. If you intended the component to be fully height-responsive remove the height setting, otherwise change it to min_height. To error on the incorrect specification disable the config.layout_compatibility option.\n"
=======
      "WARNING:param.Column: Providing a height-responsive sizing_mode ('stretch_both') and a fixed height is not supported. Converting fixed height to min_height. If you intended the component to be fully height-responsive remove the height setting, otherwise change it to min_height. To error on the incorrect specification disable the config.layout_compatibility option.\n"
>>>>>>> refs/remotes/origin/master:notebooks/snow_dashboard.ipynb
     ]
    },
    {
     "name": "stdout",
     "output_type": "stream",
     "text": [
<<<<<<< HEAD:notebooks/panel.ipynb
      "Launching server at http://localhost:5251\n"
=======
      "Launching server at http://localhost:2309\n"
>>>>>>> refs/remotes/origin/master:notebooks/snow_dashboard.ipynb
     ]
    },
    {
     "data": {
      "text/plain": [
<<<<<<< HEAD:notebooks/panel.ipynb
       "<panel.io.server.Server at 0x7f49a7461910>"
      ]
     },
     "execution_count": 69,
=======
       "<panel.io.server.Server at 0x220d3f8e270>"
      ]
     },
     "execution_count": 40,
>>>>>>> refs/remotes/origin/master:notebooks/snow_dashboard.ipynb
     "metadata": {},
     "output_type": "execute_result"
    },
    {
     "name": "stdout",
     "output_type": "stream",
     "text": [
<<<<<<< HEAD:notebooks/panel.ipynb
      "Code received in create_plot: \n"
=======
      "Code received in create_plot: \n",
      "Code received in create_plot: 1404020003\n",
      "Code received in create_plot: 1404020003\n",
      "HUC code clicked: 1404020003\n",
      "Code received in create_plot: 1401000106\n",
      "Code received in create_plot: 1401000106\n",
      "HUC code clicked: 1401000106\n",
      "Code received in create_plot: 1404010505\n",
      "Code received in create_plot: 1404010505\n",
      "Code received in create_plot: 1404010505\n",
      "Code received in create_plot: 1404010505\n",
      "HUC code clicked: 1404010505\n"
>>>>>>> refs/remotes/origin/master:notebooks/snow_dashboard.ipynb
     ]
    }
   ],
   "source": [
    "# Create the ipyleaflet map\n",
    "def create_ipyleaflet_map():\n",
    "    \n",
    "    m = Map(center=center, zoom=6, scroll_wheel_zoom=True)\n",
    "\n",
    "    # Add HUC2 GeoJSON layer\n",
    "    huc10_layer = GeoJSON(\n",
    "        data=json.loads(huc10_gdf.to_crs('EPSG:4326').to_json()),\n",
    "        style={'color': 'black', 'weight': 2, 'fillColor': 'blue', 'fillOpacity': 0.1},\n",
    "        hover_style={'fillColor': 'red', 'fillOpacity': 0.2},\n",
    "        \n",
    "        name='HUC10' # check\n",
    "    )\n",
    "\n",
    "    huc2_layer = GeoJSON(\n",
    "        data=json.loads(huc2_14.to_crs('EPSG:4326').to_json()),\n",
    "        style={'color': 'black', 'weight': 3, 'fillColor': 'none'},\n",
    "        name='HUC2' # check\n",
    "    )\n",
    "    \n",
    "    \n",
    "    task = None\n",
    "\n",
    "    def on_hover(event, feature, **kwargs):\n",
    "        nonlocal task\n",
    "\n",
    "        # Cancel the previous task if it's still running\n",
    "        if task is not None:\n",
    "            task.cancel()\n",
    "\n",
    "        # Start a new task\n",
    "        task = asyncio.create_task(add_popup(event, feature))\n",
    "\n",
    "    async def add_popup(event, feature):\n",
    "        # Add a delay before adding the popup\n",
    "        await asyncio.sleep(0.1)\n",
    "\n",
    "        properties = feature['properties']\n",
    "        code = properties.get('huc10', 'Unknown')\n",
    "        name = properties.get('name', 'Unknown')  # Assuming 'name' is the property containing the watershed name\n",
    "\n",
    "        # Get the coordinates from the feature\n",
    "        geometry = shape(feature['geometry'])\n",
    "        if isinstance(geometry, MultiPolygon):\n",
    "            # Use the representative point of the largest polygon\n",
    "            largest_polygon = max(geometry, key=lambda polygon: polygon.area)\n",
    "            coordinates = list(largest_polygon.representative_point().coords)[0]\n",
    "        else:\n",
    "            # Use the representative point of the polygon\n",
    "            coordinates = list(geometry.representative_point().coords)[0]\n",
    "\n",
    "        # Reverse the coordinates to [latitude, longitude]\n",
    "        coordinates = coordinates[::-1]\n",
    "\n",
    "        # Create a popup with the name and code\n",
    "        message = HTML()\n",
    "        message.value = f\"Watershed Name: {name}<br>Code: {code}\"\n",
    "        popup = Popup(location=coordinates, child=message, close_button=False, auto_close=True, close_on_escape_key=True, auto_pan=False)\n",
    "\n",
    "        # Remove existing popups\n",
    "        for layer in m.layers:\n",
    "            if isinstance(layer, Popup):\n",
    "                m.remove_layer(layer)\n",
    "                \n",
    "            # Wait until the previous popup has been fully removed\n",
    "        while any(isinstance(layer, Popup) for layer in m.layers):\n",
    "            await asyncio.sleep(0.01)\n",
    "        await asyncio.sleep(0.1)\n",
    "\n",
    "        # Add the new popup\n",
    "        m.add_layer(popup)\n",
    "        \n",
    "# Add the hover handler to the GeoJSON layer\n",
    "    huc10_layer.on_hover(on_hover)\n",
    "\n",
    "    # Add click event to GeoJSON layer\n",
    "    def on_click(event, feature, **kwargs):\n",
    "        properties = feature['properties']\n",
    "        code = properties.get('huc10', 'Unknown')\n",
    "        #click_stream.event(code=code)\n",
    "        click_stream.code = code\n",
    "        click_stream.param.trigger('code')\n",
    "        center = [huc10_gdf[huc10_gdf['huc10'] == code].geometry.centroid.y.values[0], huc10_gdf[huc10_gdf['huc10'] == code].geometry.centroid.x.values[0]]\n",
    "        update_folium_map()\n",
    "        print(f'HUC code clicked: {code}')  # Debugging statement\n",
    "\n",
    "    huc10_layer.on_click(on_click)\n",
    "    m.add_layer(huc2_layer)\n",
    "    m.add_layer(huc10_layer)\n",
    "\n",
    "    return m\n",
    "\n",
    "def create_folium_map(year,code=None):\n",
    "    m = leafmap.Map(center=center,zoom=6, zoom_control=False, draw_control=False, search_control=False, measure_control=False, fullscreen_control=False, attribution_control=False)\n",
    "    #zoom_level = m.zoom\n",
    "    \n",
    "    if (year == 1990) & (code is None or code == ''):\n",
    "        # DISPLAY COARSENED SPLITMAP\n",
    "        print(f'default')\n",
    "        m.split_map(left_layer=swe_reanalysis_coarsened.sel(Year=year), left_args={'vmin':0,'vmax':1,'cmap':'Blues','nodata':np.nan}, right_layer=swe_calculated_coarsened.sel(Year=1990-year),right_args={'vmin':0,'vmax':1,'cmap':'Blues','nodata':np.nan})\n",
    "        m.add_gdf(huc2_14, layer_name='HUC2',zoom_to_layer=True, style={'color': 'black', 'weight': 2,'fillColor': 'blue', 'fillOpacity': 0.0},info_mode=None) \n",
    "    else:\n",
    "        m.split_map(left_layer=swe_reanalysis.sel(Year=year), left_args={'vmin':0,'vmax':1,'cmap':'Blues','nodata':np.nan}, right_layer=swe_calculated.sel(Year=1990-year),right_args={'vmin':0,'vmax':1,'cmap':'Blues','nodata':np.nan})\n",
    "        m.add_gdf(huc2_14, layer_name='HUC2',zoom_to_layer=True, style={'color': 'black', 'weight': 2,'fillColor': 'blue', 'fillOpacity': 0.0},info_mode=None)\n",
    "    \n",
    "    \n",
    "    if code:\n",
    "        m.add_gdf(huc10_gdf[huc10_gdf['huc10'] == code], layer_name='HUC10',zoom_to_layer=True, style={'color': 'black', 'weight': 2,'fillColor': 'blue', 'fillOpacity': 0.0},info_mode=None)\n",
    "        #huc10_gdf[huc10_gdf['huc10'] == code].boundary.plot(color='black',linewidth=2)\n",
    "    \n",
    "    m.add('inspector')\n",
    "    cm_swe= branca.colormap.linear.Blues_09.scale(0,1,max_labels=10).to_step(100)\n",
    "    cm_swe.add_to(m)\n",
    "    #m.add_colormap()\n",
    "    return m\n",
    "\n",
    "\n",
    "# Create the map\n",
    "ipyleaflet_map = create_ipyleaflet_map()\n",
    "# Define a stream to capture map clicks\n",
    "class ClickStream(Stream):\n",
    "    code = param.String(default='')\n",
    "\n",
    "# Instantiate the click stream\n",
    "click_stream = ClickStream()\n",
    "\n",
    "def create_plot(code):\n",
    "    print(f'Code received in create_plot: {code}')  # Debugging statement\n",
    "    \n",
    "    code_pass = False\n",
    "    try:\n",
    "        code = int(code)\n",
    "        code_pass = True\n",
    "        \n",
    "    except:\n",
    "        code = 1401000107\n",
    "        code_pass = True\n",
    "        \n",
    "    if code_pass:\n",
    "        filtered_data = huc10_swe[huc10_swe['huc10_id'] == code]\n",
    "        plot = filtered_data.hvplot.line(x='year', y=['Calculated SWE', 'Reanalysis SWE'],\n",
    "                                        value_label='Total SWE in Watershed ($m^3$)',\n",
    "                                        title=f\"{filtered_data.iloc[0]['name']}\",\n",
    "                                        min_height=300,\n",
    "                                        min_width=600,responsive=True)\n",
    "        plot.opts(legend_position='bottom', legend_cols=2)\n",
    "    else:\n",
    "        # Create a blank NdOverlay object with the same dimensions as the line plot\n",
    "        kdims = ['year']\n",
    "        vdims = ['Calculated SWE', 'Reanalysis SWE']\n",
    "        plot = hv.NdOverlay({0: hv.Curve([], kdims, vdims)})\n",
    "\n",
    "        plot.opts(title='Select a HUC10 watershed on the left.',legend_position='bottom', legend_cols=2,responsive=True)\n",
    "        \n",
    "    return plot\n",
    "\n",
    "# Define a DynamicMap that updates based on the click stream\n",
    "dynamic_map = hv.DynamicMap(lambda code: create_plot(code), streams=[click_stream.param.code])\n",
    "\n",
    "\n",
    "\n",
    "# Convert ipyleaflet map to Panel\n",
    "\n",
    "def update_folium_map(event=None):\n",
    "    if event:\n",
    "        year = event.new\n",
    "    else:\n",
    "        year = year_slider.value_throttled\n",
    "    new_folium_map = create_folium_map(year,code=click_stream.code)\n",
    "    new_escaped_html = html.escape(new_folium_map.to_html())\n",
    "    new_iframe_html = f'<iframe srcdoc=\"{new_escaped_html}\" style=\"height:100%; width:100%\" frameborder=\"0\"></iframe>'\n",
    "    folium_pane.object = new_iframe_html\n",
    "\n",
    "folium_map = create_folium_map(1990)  # Start with the initial year\n",
    "#folium_pane = pn.pane.plot.HTML(html.escape(folium_map.to_html()), height=400, width=400)\n",
    "escaped_html = html.escape(folium_map.to_html())\n",
    "\n",
    "# Create iframe embedding the escaped HTML and display it\n",
    "iframe_html = f'<iframe srcdoc=\"{escaped_html}\" style=\"height:100%; width:100%\" frameborder=\"0\"></iframe>'\n",
    "\n",
    "# Display iframe in a Panel HTML pane\n",
    "folium_pane = pn.pane.HTML(iframe_html,min_height=400,sizing_mode='scale_both') # , height=300, sizing_mode=\"stretch_width\"\n",
    "\n",
    "year_slider = pn.widgets.IntSlider(name='Year', format='0', start=1990, end=2021,min_height=50,sizing_mode='stretch_width')\n",
    "year_slider.param.watch(update_folium_map, 'value_throttled')\n",
    "\n",
    "wb = pn.WidgetBox(folium_pane,year_slider,min_height=500)\n",
    "\n",
    "ipyleaflet_pane = pn.pane.IPyWidget(ipyleaflet_map) #sizing_mode='stretch_both'\n",
    "\n",
    "dyn_panel = pn.panel(dynamic_map)\n",
    "# Create the layout\n",
    "#layout = pn.Row(ipyleaflet_pane, pn.panel(dynamic_map, height=400, width=400),folium_pane,year_slider)\n",
    "\n",
    "gspec = pn.GridSpec(sizing_mode='stretch_both') # sizing_mode='stretch_both'\n",
    "gspec[0, 0] = pn.Column(ipyleaflet_pane,min_height=400,sizing_mode='stretch_both') #sizing_mode='stretch_both'  margin=(0, 0, 10, 0)\n",
    "#gspec[0, 1] = pn.Column(folium_pane, height=350, margin=(0, 0, 10, 0))\n",
    "gspec[0, 1] = pn.Column(wb,min_height=500,sizing_mode='stretch_both') # height=350 sizing_mode=\"stretch_both\", margin=(0, 0, 10, 0)\n",
    "#gspec[0, 1] = wb # height=350 sizing_mode=\"stretch_both\", margin=(0, 0, 10, 0)\n",
    "\n",
    "#gspec[0, 1] = pn.Column(folium_pane,height=400,sizing_mode='stretch_both') # height=350 sizing_mode=\"stretch_both\", margin=(0, 0, 10, 0)\n",
    "#gspec[1, 0] = pn.Column(year_slider,sizing_mode='stretch_both') # height=50, margin=(0, 0, -55, 0)\n",
    "#gspec[1, 1] = pn.Column(year_slider, height=50, margin=(0, 0, -55, 0))\n",
    "gspec[1, :] = pn.Row(dyn_panel,min_height=250,sizing_mode='stretch_both') #, sizing_mode='stretch_both' #  sizing_mode='stretch_both', margin=(0, 0, 50, 0)\n",
    "\n",
    "# Create a custom template\n",
    "template = pn.template.MaterialTemplate(\n",
    "    title='Snow Dashboard          &#10052;    &#10052;    &#10052;'\n",
    "    #favicon='../snow_favicon.ico'  \n",
    ")\n",
    "subtitle = pn.pane.Markdown(\n",
    "   \"\"\"\n",
    "        ## Interactive Snow Dashboard: Explore snow water equivalent (SWE) data using a new estimation method!\n",
    "          \n",
    "        Snow is an important water resource in the Upper Colorado River Basin (UCRB). It delays the timing of runoff so that winter precipitation enters streams and reservoirs in the spring and summer, when demand for irrigation and drinking water is highest. Current-season estimates of snow water equivalent (SWE) - the amount of water stored in the snowpack - are critical to allocating water resources correctly. Water managers currently rely on point measurements (from the SNOTEL network) of SWE that are sparsely located throughout the UCRB, but the spatial variability of SWE makes point measurements inadequate representations of distributed SWE. Current methods can back-calculate distributed SWE once snow melts (called SWE Reanalysis), but are unable to accurately estimate current SWE. Water managers need new tools and datasets to calculate the total amount of SWE in each watershed before melt-out.  \n",
    "\n",
    "        Here we present a novel method to estimate current-year SWE using historic SWE patterns and statistics. In previous work, we showed that the standard normal variates (Eq 1) are consistent within large regions. We calculated standard normal variates for April 1st SWE, and clustered to find regions in the UCRB that have similar standard normal variates. Using 30 years of SWE Reanalysis data, we calculate the 30-year mean and standard deviation of SWE at each Reanalysis grid cell. Then we use a nearby point measurement (from SNOTEL) of the current-year standard normal variate. We can rearrange Eq 1 so that we can calculate SWE at any gridcell. Then we can calculate the total SWE within each HUC10 watershed. (HUC10 watersheds are a certain sized watershed delineated by the U.S. Geological Survey.)  \n",
    "\n",
    "        Equation 1.    $Standard Normal Variate = \\frac{SWE_{current year} - Mean_{30-year}}{Standard Deviation_{30-year}}$ \n",
    "        Equation 2. $SWE_{current year} = Standard Normal Variate_{current year} * Standard Deviation_{30-year} + Mean_{30-year}$  \n",
    "  \n",
    "        To use the dashboard, select a HUC10 watershed within the UCRB in the left panel. The Reanalysis and Calculated SWE gridded data will populate the right panel, and a timeseries of total watershed SWE on April 1 will populate the bottom panel. Water managers can hover over the bottom plot to see exactly how much SWE (in acre-feet) were calculated in each watershed using our method vs. the Reanalysis dataset. The calculated datset will be extended to 2024 soon, to provide current-year April 1 SWE. \n",
    "        \"\"\",\n",
    "    margin=(0, 0, 20, 0)\n",
    "    \n",
    ")\n",
    "# titles = pn.pane.Markdown(\n",
    "#     \"\"\"\n",
    "#     <h3 style=\"font-size:24px; margin-bottom: 10px;\">Pick a Basin!</h3>         <h3 text-align = right; style=\"font-size:24px; margin-bottom: 10px;\">Calculated SWE vs. Reanalysis SWE</h3>  \n",
    "\n",
    "#     \"\"\",\n",
    "#     margin=(0, 0, 10, 0)\n",
    "    \n",
    "# )\n",
    "titles = pn.pane.Markdown(\n",
    "    \"\"\"\n",
    "    <div>\n",
    "        <h3 style=\"font-size:24px; margin-bottom: 10px; display: inline-block;\">Pick a watershed!</h3>\n",
    "        <h3 style=\"font-size:24px; margin-bottom: 10px; float: right;\">Calculated SWE vs. Reanalysis SWE</h3>\n",
    "    </div>\n",
    "    \"\"\",\n",
    "    margin=(0, 0, 10, 0)\n",
    ")\n",
    "\n",
    "template.main.insert(0, subtitle)\n",
    "template.main.insert(1, titles)\n",
    "\n",
    "\n",
    "# Add the GridSpec layout to the template\n",
    "template.main.append(gspec)\n",
    "\n",
    "\n",
    "# Define the Panel app\n",
    "def panel_app():\n",
    "    #pn.state.add_periodic_callback(lambda: None, period=100, count=100)\n",
    "    #return layout\n",
    "    #return gspec\n",
    "    return template\n",
    "\n",
    "# Start the server\n",
<<<<<<< HEAD:notebooks/panel.ipynb
    "pn.serve({'/': panel_app}, port=5251, show=True)\n",
    "\n",
    "#panel_app().servable()"
=======
    "pn.serve({'/': panel_app}, port=5232, show=True)\n"
>>>>>>> refs/remotes/origin/master:notebooks/snow_dashboard.ipynb
   ]
  }
 ],
 "metadata": {
  "kernelspec": {
   "display_name": "spicy_snow_env",
   "language": "python",
   "name": "python3"
  },
  "language_info": {
   "codemirror_mode": {
    "name": "ipython",
    "version": 3
   },
   "file_extension": ".py",
   "mimetype": "text/x-python",
   "name": "python",
   "nbconvert_exporter": "python",
   "pygments_lexer": "ipython3",
   "version": "3.12.3"
  }
 },
 "nbformat": 4,
 "nbformat_minor": 2
}
